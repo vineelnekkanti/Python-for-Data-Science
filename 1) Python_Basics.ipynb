{
  "nbformat": 4,
  "nbformat_minor": 0,
  "metadata": {
    "colab": {
      "provenance": [],
      "authorship_tag": "ABX9TyPiPXX8G+ZNGfj3a68gGeEV",
      "include_colab_link": true
    },
    "kernelspec": {
      "name": "python3",
      "display_name": "Python 3"
    },
    "language_info": {
      "name": "python"
    }
  },
  "cells": [
    {
      "cell_type": "markdown",
      "metadata": {
        "id": "view-in-github",
        "colab_type": "text"
      },
      "source": [
        "<a href=\"https://colab.research.google.com/github/vineelnekkanti/Python-for-Data-Science/blob/main/Python_Basics.ipynb\" target=\"_parent\"><img src=\"https://colab.research.google.com/assets/colab-badge.svg\" alt=\"Open In Colab\"/></a>"
      ]
    },
    {
      "cell_type": "code",
      "execution_count": 20,
      "metadata": {
        "colab": {
          "base_uri": "https://localhost:8080/"
        },
        "id": "9LNET-TU4Bvw",
        "outputId": "8fd6112c-cb3b-4661-84e8-0ab08274c7c4"
      },
      "outputs": [
        {
          "output_type": "execute_result",
          "data": {
            "text/plain": [
              "2"
            ]
          },
          "metadata": {},
          "execution_count": 20
        }
      ],
      "source": [
        "2"
      ]
    },
    {
      "cell_type": "code",
      "source": [
        "2+3"
      ],
      "metadata": {
        "colab": {
          "base_uri": "https://localhost:8080/"
        },
        "id": "QXIsoKct45qP",
        "outputId": "120b78f0-2a88-4076-e578-bdbabb7b3dae"
      },
      "execution_count": 21,
      "outputs": [
        {
          "output_type": "execute_result",
          "data": {
            "text/plain": [
              "5"
            ]
          },
          "metadata": {},
          "execution_count": 21
        }
      ]
    },
    {
      "cell_type": "code",
      "source": [
        "2**3"
      ],
      "metadata": {
        "colab": {
          "base_uri": "https://localhost:8080/"
        },
        "id": "OnS1-b0t5J2A",
        "outputId": "f2c968b1-fe18-4bc4-be82-174aa84ba681"
      },
      "execution_count": 22,
      "outputs": [
        {
          "output_type": "execute_result",
          "data": {
            "text/plain": [
              "8"
            ]
          },
          "metadata": {},
          "execution_count": 22
        }
      ]
    },
    {
      "cell_type": "code",
      "source": [
        "2/3"
      ],
      "metadata": {
        "colab": {
          "base_uri": "https://localhost:8080/"
        },
        "id": "hlce3AIc5MCo",
        "outputId": "01aec5b0-c01e-4198-8af9-8b7e7b037523"
      },
      "execution_count": 23,
      "outputs": [
        {
          "output_type": "execute_result",
          "data": {
            "text/plain": [
              "0.6666666666666666"
            ]
          },
          "metadata": {},
          "execution_count": 23
        }
      ]
    },
    {
      "cell_type": "code",
      "source": [
        "2+3*5/4"
      ],
      "metadata": {
        "colab": {
          "base_uri": "https://localhost:8080/"
        },
        "id": "JcCJJviT5OIG",
        "outputId": "865fc118-9b7f-4331-a9e4-3d63d40de6e8"
      },
      "execution_count": 24,
      "outputs": [
        {
          "output_type": "execute_result",
          "data": {
            "text/plain": [
              "5.75"
            ]
          },
          "metadata": {},
          "execution_count": 24
        }
      ]
    },
    {
      "cell_type": "code",
      "source": [
        "5==5"
      ],
      "metadata": {
        "colab": {
          "base_uri": "https://localhost:8080/"
        },
        "id": "4XIN-mcu5Q9f",
        "outputId": "1c0e4c8c-51be-4250-bf01-46d88cb18e8c"
      },
      "execution_count": 25,
      "outputs": [
        {
          "output_type": "execute_result",
          "data": {
            "text/plain": [
              "True"
            ]
          },
          "metadata": {},
          "execution_count": 25
        }
      ]
    },
    {
      "cell_type": "code",
      "source": [
        "4%2"
      ],
      "metadata": {
        "colab": {
          "base_uri": "https://localhost:8080/"
        },
        "id": "pn1bXxeK5Ux7",
        "outputId": "49b971f3-a555-4d43-e3fb-52e64d72cadc"
      },
      "execution_count": 26,
      "outputs": [
        {
          "output_type": "execute_result",
          "data": {
            "text/plain": [
              "0"
            ]
          },
          "metadata": {},
          "execution_count": 26
        }
      ]
    },
    {
      "cell_type": "code",
      "source": [
        "a=2\n",
        "b=3\n",
        "print(a**b)"
      ],
      "metadata": {
        "colab": {
          "base_uri": "https://localhost:8080/"
        },
        "id": "DUDrBU9J5aBF",
        "outputId": "4cbdeb0e-8268-46a0-a184-bba4bd375f6a"
      },
      "execution_count": 27,
      "outputs": [
        {
          "output_type": "stream",
          "name": "stdout",
          "text": [
            "8\n"
          ]
        }
      ]
    },
    {
      "cell_type": "code",
      "source": [
        "#comparison operators\n",
        "print(1<2)\n",
        "print(1==2)\n",
        "print(2>1)\n",
        "print(\"hi\"!=\"there\" and 2<2)\n",
        "print(\"hi\"!=\"there\" or 2<2)"
      ],
      "metadata": {
        "colab": {
          "base_uri": "https://localhost:8080/"
        },
        "id": "v4V6C6N5_qBf",
        "outputId": "b53b1fef-a37c-440f-b023-3be8691efe33"
      },
      "execution_count": 28,
      "outputs": [
        {
          "output_type": "stream",
          "name": "stdout",
          "text": [
            "True\n",
            "False\n",
            "True\n",
            "False\n",
            "True\n"
          ]
        }
      ]
    },
    {
      "cell_type": "code",
      "source": [
        "#Strings\n",
        "a=\"Hello World\"\n",
        "b='...HI'\n",
        "a+b #concat"
      ],
      "metadata": {
        "colab": {
          "base_uri": "https://localhost:8080/",
          "height": 35
        },
        "id": "7cuMGsDw6CZE",
        "outputId": "903b4dd8-8fd4-4de0-bdc1-4cbb64f4f0db"
      },
      "execution_count": 29,
      "outputs": [
        {
          "output_type": "execute_result",
          "data": {
            "text/plain": [
              "'Hello World...HI'"
            ],
            "application/vnd.google.colaboratory.intrinsic+json": {
              "type": "string"
            }
          },
          "metadata": {},
          "execution_count": 29
        }
      ]
    },
    {
      "cell_type": "code",
      "source": [
        "#printing in a different formats\n",
        "name=\"Alex\"\n",
        "age=35\n",
        "print(f'Hi My name is {name} and my age is {age}') #using f strings to print\n",
        "print('Hi My name is {} and my age is {}'.format(name,age)) #using format"
      ],
      "metadata": {
        "colab": {
          "base_uri": "https://localhost:8080/"
        },
        "id": "XK--Rkcc6oeT",
        "outputId": "25da4b7d-a259-42a8-bd8a-ee6fae15e042"
      },
      "execution_count": 30,
      "outputs": [
        {
          "output_type": "stream",
          "name": "stdout",
          "text": [
            "Hi My name is Alex and my age is 35\n",
            "Hi My name is Alex and my age is 35\n"
          ]
        }
      ]
    },
    {
      "cell_type": "code",
      "source": [
        "#String Operations\n",
        "a='Python'\n",
        "print(a[0])\n",
        "print(a[4]) #indexing the strings\n",
        "print(a[-2])\n",
        "print(a[0:])\n",
        "print(a[:3]) # start:(n-1) index\n",
        "print(a[:])"
      ],
      "metadata": {
        "colab": {
          "base_uri": "https://localhost:8080/"
        },
        "id": "VP801Rqm7Y6p",
        "outputId": "76de9601-9282-4a0a-e827-7da18805b4fd"
      },
      "execution_count": 31,
      "outputs": [
        {
          "output_type": "stream",
          "name": "stdout",
          "text": [
            "P\n",
            "o\n",
            "o\n",
            "Python\n",
            "Pyt\n",
            "Python\n"
          ]
        }
      ]
    },
    {
      "cell_type": "code",
      "source": [
        "#Lists\n",
        "a=[1,2,3]\n",
        "b=['a','b','c']\n",
        "a.append(4)\n",
        "b.append(5)\n",
        "print(a)\n",
        "print(b)"
      ],
      "metadata": {
        "colab": {
          "base_uri": "https://localhost:8080/"
        },
        "id": "kxpCxiNO8MVr",
        "outputId": "d21a6e28-780b-4f38-bd0e-5fe34675b109"
      },
      "execution_count": 32,
      "outputs": [
        {
          "output_type": "stream",
          "name": "stdout",
          "text": [
            "[1, 2, 3, 4]\n",
            "['a', 'b', 'c', 5]\n"
          ]
        }
      ]
    },
    {
      "cell_type": "code",
      "source": [
        "#more operations on lists\n",
        "print(a[0])\n",
        "print(b[1:2])\n",
        "a[1]='Alex'\n",
        "print(a)\n",
        "nested_list=[1,2,['a',6,7]] #using nested lists\n",
        "print(nested_list[2][1])"
      ],
      "metadata": {
        "colab": {
          "base_uri": "https://localhost:8080/"
        },
        "id": "LCmYz1ne8itZ",
        "outputId": "ee052e11-6ae8-4cc2-8201-6f487e0e1710"
      },
      "execution_count": 33,
      "outputs": [
        {
          "output_type": "stream",
          "name": "stdout",
          "text": [
            "1\n",
            "['b']\n",
            "[1, 'Alex', 3, 4]\n",
            "6\n"
          ]
        }
      ]
    },
    {
      "cell_type": "code",
      "source": [
        "#Tuples: denoted within ()\n",
        "#only thing is tuples looks like same as lists but the important differece is\n",
        "#TUPLES ARE IMMUTABLE UNLIKE LISTS\n",
        "a=(1,2,3)\n",
        "print(a[1])\n",
        "#a[1]=1  #throws an error"
      ],
      "metadata": {
        "colab": {
          "base_uri": "https://localhost:8080/"
        },
        "id": "AUooaWYr9I9Y",
        "outputId": "55c4d419-f4fe-45a2-8f1b-99d10657cba6"
      },
      "execution_count": 34,
      "outputs": [
        {
          "output_type": "stream",
          "name": "stdout",
          "text": [
            "2\n"
          ]
        }
      ]
    },
    {
      "cell_type": "code",
      "source": [
        "#dictionaries {key:value}\n",
        "dict1={'key1':[1,2,3],'key2':(1,2,3)}\n",
        "print(dict1['key1'][2])\n",
        "print(dict1['key2'][0])\n",
        "\n",
        "#nested key\n",
        "dict2={\"key3\":{'key4':[456,567]}}\n",
        "print(dict2['key3']['key4'][1])"
      ],
      "metadata": {
        "colab": {
          "base_uri": "https://localhost:8080/"
        },
        "id": "FY3PVtNG9qyh",
        "outputId": "453bc626-2314-48ff-99f5-a1b4835428db"
      },
      "execution_count": 35,
      "outputs": [
        {
          "output_type": "stream",
          "name": "stdout",
          "text": [
            "3\n",
            "1\n",
            "567\n"
          ]
        }
      ]
    },
    {
      "cell_type": "code",
      "source": [
        "#SET: It is a collection of unique elements irrespective of any number of duplicates\n",
        "\n",
        "set1={1,1,1,1,1,1,1,1,2,2,2,2,2,2,2,3,3,3,3,3,4,4,4,4,5,5,5,5,5,5,5,'hi','hi'}\n",
        "print(set1) #check the output. It just displays the unique values\n",
        "set1.add(6)\n",
        "set1.add(6)\n",
        "set1.add(\"there\")\n",
        "set1"
      ],
      "metadata": {
        "colab": {
          "base_uri": "https://localhost:8080/"
        },
        "id": "RVnpzD_j-1yO",
        "outputId": "64ad408f-a87f-4ec8-c4c1-0b31d37e514b"
      },
      "execution_count": 36,
      "outputs": [
        {
          "output_type": "stream",
          "name": "stdout",
          "text": [
            "{1, 2, 3, 4, 5, 'hi'}\n"
          ]
        },
        {
          "output_type": "execute_result",
          "data": {
            "text/plain": [
              "{1, 2, 3, 4, 5, 6, 'hi', 'there'}"
            ]
          },
          "metadata": {},
          "execution_count": 36
        }
      ]
    },
    {
      "cell_type": "code",
      "source": [
        "#IF condition\n",
        "\n",
        "if 1<10:\n",
        "  print('1 is less than 10')\n"
      ],
      "metadata": {
        "colab": {
          "base_uri": "https://localhost:8080/"
        },
        "id": "YogHVVuRADsS",
        "outputId": "3a902a68-6cec-4d5c-fe15-eb01241e84bd"
      },
      "execution_count": 37,
      "outputs": [
        {
          "output_type": "stream",
          "name": "stdout",
          "text": [
            "1 is less than 10\n"
          ]
        }
      ]
    },
    {
      "cell_type": "code",
      "source": [
        "#IF/ELIF/ELSE else\n",
        "if 1<10:\n",
        "  print('1 is less than 10')\n",
        "elif 10==10:\n",
        "  print('10 equals 10!')\n",
        "else:\n",
        "  print(\"Invalid\")\n"
      ],
      "metadata": {
        "colab": {
          "base_uri": "https://localhost:8080/"
        },
        "id": "OciBghfbAky-",
        "outputId": "7eda835d-1964-4fed-e898-092d1b3c3fbd"
      },
      "execution_count": 38,
      "outputs": [
        {
          "output_type": "stream",
          "name": "stdout",
          "text": [
            "1 is less than 10\n"
          ]
        }
      ]
    },
    {
      "cell_type": "code",
      "source": [
        "#WHILE LOOP\n",
        "a=0\n",
        "while a<5:\n",
        "  print(f\"python {a+1} loop\")\n",
        "  a+=1"
      ],
      "metadata": {
        "colab": {
          "base_uri": "https://localhost:8080/"
        },
        "id": "Jc0KFX2qBHJU",
        "outputId": "86fb2124-62cf-497d-c25f-1a27fd065127"
      },
      "execution_count": 39,
      "outputs": [
        {
          "output_type": "stream",
          "name": "stdout",
          "text": [
            "python 1 loop\n",
            "python 2 loop\n",
            "python 3 loop\n",
            "python 4 loop\n",
            "python 5 loop\n"
          ]
        }
      ]
    },
    {
      "cell_type": "code",
      "source": [
        "#FOR LOOP\n",
        "a=[1,2,3,4,5]\n",
        "for x in a:\n",
        "  print(x)"
      ],
      "metadata": {
        "colab": {
          "base_uri": "https://localhost:8080/"
        },
        "id": "CkxDz9DaBIpS",
        "outputId": "f762ba52-fff1-4fb7-a6a3-25fdd81c1c20"
      },
      "execution_count": 40,
      "outputs": [
        {
          "output_type": "stream",
          "name": "stdout",
          "text": [
            "1\n",
            "2\n",
            "3\n",
            "4\n",
            "5\n"
          ]
        }
      ]
    },
    {
      "cell_type": "code",
      "source": [
        "#for with RANGE"
      ],
      "metadata": {
        "id": "XC8uxbxsCAmv"
      },
      "execution_count": 41,
      "outputs": []
    },
    {
      "cell_type": "code",
      "source": [
        "for i in range(0,5):\n",
        "  print(f\"python {i+1} loop\")\n"
      ],
      "metadata": {
        "colab": {
          "base_uri": "https://localhost:8080/"
        },
        "id": "xM9OKiJrCAkw",
        "outputId": "df515a0c-14a5-4eb4-b57d-8df0fde1e64e"
      },
      "execution_count": 42,
      "outputs": [
        {
          "output_type": "stream",
          "name": "stdout",
          "text": [
            "python 1 loop\n",
            "python 2 loop\n",
            "python 3 loop\n",
            "python 4 loop\n",
            "python 5 loop\n"
          ]
        }
      ]
    },
    {
      "cell_type": "code",
      "source": [
        "print(tuple(range(15)))\n",
        "print(list(range(15)))"
      ],
      "metadata": {
        "colab": {
          "base_uri": "https://localhost:8080/"
        },
        "id": "dAQzwcXcCRy5",
        "outputId": "3412d431-9883-4ed5-a243-22c64766cc19"
      },
      "execution_count": 43,
      "outputs": [
        {
          "output_type": "stream",
          "name": "stdout",
          "text": [
            "(0, 1, 2, 3, 4, 5, 6, 7, 8, 9, 10, 11, 12, 13, 14)\n",
            "[0, 1, 2, 3, 4, 5, 6, 7, 8, 9, 10, 11, 12, 13, 14]\n"
          ]
        }
      ]
    },
    {
      "cell_type": "code",
      "source": [
        "p=[1,2,3,4,5]\n",
        "q=[]\n",
        "for i in p:\n",
        "  q.append(i**i)\n",
        "print(q)"
      ],
      "metadata": {
        "colab": {
          "base_uri": "https://localhost:8080/"
        },
        "id": "8xlzfnA5Cqov",
        "outputId": "3ebcdf94-1b02-40fe-9d63-96956bafa272"
      },
      "execution_count": 44,
      "outputs": [
        {
          "output_type": "stream",
          "name": "stdout",
          "text": [
            "[1, 4, 27, 256, 3125]\n"
          ]
        }
      ]
    },
    {
      "cell_type": "code",
      "source": [
        "#Functions\n",
        "def adding(a,b,c=100): #c is a default value we can consider it as a global mapping\n",
        "  \"\"\" THIS A DOC STRING\n",
        "  THIS FUNCTION HELPS WITH ADDITION \"\"\"\n",
        "  return a+b+c\n",
        "adding(5,17)\n"
      ],
      "metadata": {
        "colab": {
          "base_uri": "https://localhost:8080/"
        },
        "id": "5FeYS4RoDIne",
        "outputId": "4d58fa5c-b362-4269-dd22-22ef0466d538"
      },
      "execution_count": 45,
      "outputs": [
        {
          "output_type": "execute_result",
          "data": {
            "text/plain": [
              "122"
            ]
          },
          "metadata": {},
          "execution_count": 45
        }
      ]
    },
    {
      "cell_type": "code",
      "source": [
        "#Lets see the difference between using FUNCTION and ease of using LAMBDA\n",
        "\n",
        "#Square operation using a function\n",
        "def squaring(num):\n",
        "  return num**2\n",
        "print(squaring(2))\n",
        "\n",
        "\n",
        "#Lambda expression\n",
        "a = lambda num:num**2\n",
        "print(a(6))"
      ],
      "metadata": {
        "colab": {
          "base_uri": "https://localhost:8080/"
        },
        "id": "DVRxUsuEKu1K",
        "outputId": "d321b5e4-6ec5-4579-c8e2-6ff76dfa83ba"
      },
      "execution_count": 46,
      "outputs": [
        {
          "output_type": "stream",
          "name": "stdout",
          "text": [
            "4\n",
            "36\n"
          ]
        }
      ]
    },
    {
      "cell_type": "code",
      "source": [
        "#Other example of Function and Lambda\n",
        "\n",
        "def sum_three(a,b,c):\n",
        "  return a+b+c\n",
        "print(sum_three(1,2,3))\n",
        "\n",
        "#Lambda\n",
        "b = lambda a,b,c:a+b+c\n",
        "print(b(1,2,3))"
      ],
      "metadata": {
        "colab": {
          "base_uri": "https://localhost:8080/"
        },
        "id": "DyzUDIEFOje2",
        "outputId": "7bbdfd8b-e666-4322-9fd8-4c77bb781e05"
      },
      "execution_count": 47,
      "outputs": [
        {
          "output_type": "stream",
          "name": "stdout",
          "text": [
            "6\n",
            "6\n"
          ]
        }
      ]
    },
    {
      "cell_type": "code",
      "source": [
        "#Methods\n",
        "a = 'Hello World'\n",
        "print(a.lower())\n",
        "print(a.upper())\n",
        "print(a.split()) #it splits at white spaces\n",
        "print(a.split('o')[2]) #This picks the second occurance of o and then splits and prints the rest"
      ],
      "metadata": {
        "colab": {
          "base_uri": "https://localhost:8080/"
        },
        "id": "dJUfnw9MPqr_",
        "outputId": "30be1412-85f9-4b5c-ab92-882b4e8c26f9"
      },
      "execution_count": 48,
      "outputs": [
        {
          "output_type": "stream",
          "name": "stdout",
          "text": [
            "hello world\n",
            "HELLO WORLD\n",
            "['Hello', 'World']\n",
            "rld\n"
          ]
        }
      ]
    },
    {
      "cell_type": "code",
      "source": [
        "#Methods:Dict\n",
        "print(dict1)\n",
        "print(dict1.keys())\n",
        "print(dict1.values())\n",
        "print(dict1.items())"
      ],
      "metadata": {
        "colab": {
          "base_uri": "https://localhost:8080/"
        },
        "id": "NI9vVXbPQe_s",
        "outputId": "3d0393b0-8181-441c-ef4d-91b57c0b3b98"
      },
      "execution_count": 52,
      "outputs": [
        {
          "output_type": "stream",
          "name": "stdout",
          "text": [
            "{'key1': [1, 2, 3], 'key2': (1, 2, 3)}\n",
            "dict_keys(['key1', 'key2'])\n",
            "dict_values([[1, 2, 3], (1, 2, 3)])\n",
            "dict_items([('key1', [1, 2, 3]), ('key2', (1, 2, 3))])\n"
          ]
        }
      ]
    },
    {
      "cell_type": "code",
      "source": [
        "#Methods:List\n",
        "a=[1,2,3,4,5]\n",
        "print(a.pop())  #pop and return the last item in the list\n",
        "print(a)\n",
        "\n",
        "print(a.pop(1))  #A specific value from an index can be popped and return the last item in the list\n",
        "print(a)\n",
        "\n",
        "a.append('venkata')\n",
        "a\n",
        "\n",
        "# IN and NOT IN: (gives a boleean)\n",
        "\n",
        "print('venkata' in a)\n",
        "print(3 not in a)"
      ],
      "metadata": {
        "colab": {
          "base_uri": "https://localhost:8080/"
        },
        "id": "h9SnyzcGRGcg",
        "outputId": "89322e7c-39cd-4c78-99bf-a119ea673094"
      },
      "execution_count": 60,
      "outputs": [
        {
          "output_type": "stream",
          "name": "stdout",
          "text": [
            "5\n",
            "[1, 2, 3, 4]\n",
            "2\n",
            "[1, 3, 4]\n",
            "True\n",
            "False\n"
          ]
        }
      ]
    },
    {
      "cell_type": "code",
      "source": [
        "#Tuple unooxing\n",
        "a=[(1,2),(3,4),(5,6)]\n",
        "for i in a:\n",
        "  print(i)\n",
        "\n",
        "for p,q in a:\n",
        "  print(p)\n",
        "  print(q)"
      ],
      "metadata": {
        "colab": {
          "base_uri": "https://localhost:8080/"
        },
        "id": "SKQNhmHNSN-C",
        "outputId": "55e6f6bb-8b33-4af4-8946-63fad0c6bf3c"
      },
      "execution_count": 63,
      "outputs": [
        {
          "output_type": "stream",
          "name": "stdout",
          "text": [
            "(1, 2)\n",
            "(3, 4)\n",
            "(5, 6)\n",
            "1\n",
            "2\n",
            "3\n",
            "4\n",
            "5\n",
            "6\n"
          ]
        }
      ]
    }
  ]
}
