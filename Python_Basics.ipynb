{
  "nbformat": 4,
  "nbformat_minor": 0,
  "metadata": {
    "colab": {
      "provenance": [],
      "authorship_tag": "ABX9TyNI66D+wzFNrhtECEWYD4TY",
      "include_colab_link": true
    },
    "kernelspec": {
      "name": "python3",
      "display_name": "Python 3"
    },
    "language_info": {
      "name": "python"
    }
  },
  "cells": [
    {
      "cell_type": "markdown",
      "metadata": {
        "id": "view-in-github",
        "colab_type": "text"
      },
      "source": [
        "<a href=\"https://colab.research.google.com/github/vineelnekkanti/Python-for-DS-and-ML/blob/main/Python_Basics.ipynb\" target=\"_parent\"><img src=\"https://colab.research.google.com/assets/colab-badge.svg\" alt=\"Open In Colab\"/></a>"
      ]
    },
    {
      "cell_type": "code",
      "execution_count": 5,
      "metadata": {
        "colab": {
          "base_uri": "https://localhost:8080/"
        },
        "id": "9LNET-TU4Bvw",
        "outputId": "1bea7626-575e-4ebd-cceb-ac37ad4010ec"
      },
      "outputs": [
        {
          "output_type": "execute_result",
          "data": {
            "text/plain": [
              "2"
            ]
          },
          "metadata": {},
          "execution_count": 5
        }
      ],
      "source": [
        "2"
      ]
    },
    {
      "cell_type": "code",
      "source": [
        "2+3"
      ],
      "metadata": {
        "colab": {
          "base_uri": "https://localhost:8080/"
        },
        "id": "QXIsoKct45qP",
        "outputId": "2c93a883-c825-4655-e793-2a45b41309d1"
      },
      "execution_count": 6,
      "outputs": [
        {
          "output_type": "execute_result",
          "data": {
            "text/plain": [
              "5"
            ]
          },
          "metadata": {},
          "execution_count": 6
        }
      ]
    },
    {
      "cell_type": "code",
      "source": [
        "2**3"
      ],
      "metadata": {
        "colab": {
          "base_uri": "https://localhost:8080/"
        },
        "id": "OnS1-b0t5J2A",
        "outputId": "18398b13-d3ed-46a2-89de-7bdec25313f4"
      },
      "execution_count": 7,
      "outputs": [
        {
          "output_type": "execute_result",
          "data": {
            "text/plain": [
              "8"
            ]
          },
          "metadata": {},
          "execution_count": 7
        }
      ]
    },
    {
      "cell_type": "code",
      "source": [
        "2/3"
      ],
      "metadata": {
        "colab": {
          "base_uri": "https://localhost:8080/"
        },
        "id": "hlce3AIc5MCo",
        "outputId": "9c29799a-52c5-452c-ebaf-6aaf9a5d63b8"
      },
      "execution_count": 8,
      "outputs": [
        {
          "output_type": "execute_result",
          "data": {
            "text/plain": [
              "0.6666666666666666"
            ]
          },
          "metadata": {},
          "execution_count": 8
        }
      ]
    },
    {
      "cell_type": "code",
      "source": [
        "2+3*5/4"
      ],
      "metadata": {
        "colab": {
          "base_uri": "https://localhost:8080/"
        },
        "id": "JcCJJviT5OIG",
        "outputId": "6af173bd-09a4-4490-c458-971090726246"
      },
      "execution_count": 9,
      "outputs": [
        {
          "output_type": "execute_result",
          "data": {
            "text/plain": [
              "5.75"
            ]
          },
          "metadata": {},
          "execution_count": 9
        }
      ]
    },
    {
      "cell_type": "code",
      "source": [
        "5==5"
      ],
      "metadata": {
        "colab": {
          "base_uri": "https://localhost:8080/"
        },
        "id": "4XIN-mcu5Q9f",
        "outputId": "dfd51941-db65-4fd8-f653-007fa4a7a74c"
      },
      "execution_count": 10,
      "outputs": [
        {
          "output_type": "execute_result",
          "data": {
            "text/plain": [
              "True"
            ]
          },
          "metadata": {},
          "execution_count": 10
        }
      ]
    },
    {
      "cell_type": "code",
      "source": [
        "4%2"
      ],
      "metadata": {
        "colab": {
          "base_uri": "https://localhost:8080/"
        },
        "id": "pn1bXxeK5Ux7",
        "outputId": "70e5e659-a41f-4174-f233-60abba68c83f"
      },
      "execution_count": 11,
      "outputs": [
        {
          "output_type": "execute_result",
          "data": {
            "text/plain": [
              "0"
            ]
          },
          "metadata": {},
          "execution_count": 11
        }
      ]
    },
    {
      "cell_type": "code",
      "source": [
        "a=2\n",
        "b=3\n",
        "print(a**b)"
      ],
      "metadata": {
        "colab": {
          "base_uri": "https://localhost:8080/"
        },
        "id": "DUDrBU9J5aBF",
        "outputId": "a8cbeb69-5937-44e2-94e9-281322cdc0ef"
      },
      "execution_count": 14,
      "outputs": [
        {
          "output_type": "stream",
          "name": "stdout",
          "text": [
            "8\n"
          ]
        }
      ]
    },
    {
      "cell_type": "code",
      "source": [
        "#comparison operators\n",
        "print(1<2)\n",
        "print(1==2)\n",
        "print(2>1)\n",
        "print(\"hi\"!=\"there\" and 2<2)\n",
        "print(\"hi\"!=\"there\" or 2<2)"
      ],
      "metadata": {
        "colab": {
          "base_uri": "https://localhost:8080/"
        },
        "id": "v4V6C6N5_qBf",
        "outputId": "7c217e3d-f744-442e-8810-ccb3e8e95526"
      },
      "execution_count": 57,
      "outputs": [
        {
          "output_type": "stream",
          "name": "stdout",
          "text": [
            "True\n",
            "False\n",
            "True\n",
            "False\n",
            "True\n"
          ]
        }
      ]
    },
    {
      "cell_type": "code",
      "source": [
        "#Strings\n",
        "a=\"Hello World\"\n",
        "b='...HI'\n",
        "a+b #concat"
      ],
      "metadata": {
        "colab": {
          "base_uri": "https://localhost:8080/",
          "height": 36
        },
        "id": "7cuMGsDw6CZE",
        "outputId": "5bb0e59f-c9d9-4553-89aa-88e32d680eda"
      },
      "execution_count": 22,
      "outputs": [
        {
          "output_type": "execute_result",
          "data": {
            "text/plain": [
              "'Hello World...HI'"
            ],
            "application/vnd.google.colaboratory.intrinsic+json": {
              "type": "string"
            }
          },
          "metadata": {},
          "execution_count": 22
        }
      ]
    },
    {
      "cell_type": "code",
      "source": [
        "#printing in a different formats\n",
        "name=\"Alex\"\n",
        "age=35\n",
        "print(f'Hi My name is {name} and my age is {age}') #using f strings to print\n",
        "print('Hi My name is {} and my age is {}'.format(name,age)) #using format"
      ],
      "metadata": {
        "colab": {
          "base_uri": "https://localhost:8080/"
        },
        "id": "XK--Rkcc6oeT",
        "outputId": "085b78fb-7a6f-4313-919d-163fabf1161d"
      },
      "execution_count": 25,
      "outputs": [
        {
          "output_type": "stream",
          "name": "stdout",
          "text": [
            "Hi My name is Alex and my age is 35\n",
            "Hi My name is Alex and my age is 35\n"
          ]
        }
      ]
    },
    {
      "cell_type": "code",
      "source": [
        "#String Operations\n",
        "a='Python'\n",
        "print(a[0])\n",
        "print(a[4]) #indexing the strings\n",
        "print(a[-2])\n",
        "print(a[0:])\n",
        "print(a[:3]) # start:(n-1) index\n",
        "print(a[:])"
      ],
      "metadata": {
        "colab": {
          "base_uri": "https://localhost:8080/"
        },
        "id": "VP801Rqm7Y6p",
        "outputId": "123e6a83-fe18-47b5-f8f7-2a4ee7bf427a"
      },
      "execution_count": 32,
      "outputs": [
        {
          "output_type": "stream",
          "name": "stdout",
          "text": [
            "P\n",
            "o\n",
            "o\n",
            "Python\n",
            "Pyt\n",
            "Python\n",
            "\n"
          ]
        }
      ]
    },
    {
      "cell_type": "code",
      "source": [
        "#Lists\n",
        "a=[1,2,3]\n",
        "b=['a','b','c']\n",
        "a.append(4)\n",
        "b.append(5)\n",
        "print(a)\n",
        "print(b)"
      ],
      "metadata": {
        "colab": {
          "base_uri": "https://localhost:8080/"
        },
        "id": "kxpCxiNO8MVr",
        "outputId": "2b799a3f-590a-4fed-ad18-9abbda4b3f9a"
      },
      "execution_count": 35,
      "outputs": [
        {
          "output_type": "stream",
          "name": "stdout",
          "text": [
            "[1, 2, 3, 4]\n",
            "['a', 'b', 'c', 5]\n"
          ]
        }
      ]
    },
    {
      "cell_type": "code",
      "source": [
        "#more operations on lists\n",
        "print(a[0])\n",
        "print(b[1:2])\n",
        "a[1]='Alex'\n",
        "print(a)\n",
        "nested_list=[1,2,['a',6,7]] #using nested lists\n",
        "print(nested_list[2][1])"
      ],
      "metadata": {
        "colab": {
          "base_uri": "https://localhost:8080/"
        },
        "id": "LCmYz1ne8itZ",
        "outputId": "7ef57603-d7c3-4211-ddbb-c94bd42707bb"
      },
      "execution_count": 41,
      "outputs": [
        {
          "output_type": "stream",
          "name": "stdout",
          "text": [
            "1\n",
            "['b']\n",
            "[1, 'Alex', 3, 4]\n",
            "6\n"
          ]
        }
      ]
    },
    {
      "cell_type": "code",
      "source": [
        "#Tuples: denoted within ()\n",
        "#only thing is tuples looks like same as lists but the important differece is\n",
        "#TUPLES ARE IMMUTABLE UNLIKE LISTS\n",
        "a=(1,2,3)\n",
        "print(a[1])\n",
        "#a[1]=1  #throws an error"
      ],
      "metadata": {
        "colab": {
          "base_uri": "https://localhost:8080/"
        },
        "id": "AUooaWYr9I9Y",
        "outputId": "cf9fb4d5-836a-4e1f-c03b-6bc320659bbe"
      },
      "execution_count": 30,
      "outputs": [
        {
          "output_type": "stream",
          "name": "stdout",
          "text": [
            "2\n"
          ]
        }
      ]
    },
    {
      "cell_type": "code",
      "source": [
        "#dictionaries {key:value}\n",
        "dict1={'key1':[1,2,3],'key2':(1,2,3)}\n",
        "print(dict1['key1'][2])\n",
        "print(dict1['key2'][0])\n",
        "\n",
        "#nested key\n",
        "dict2={\"key3\":{'key4':[456,567]}}\n",
        "print(dict2['key3']['key4'][1])"
      ],
      "metadata": {
        "colab": {
          "base_uri": "https://localhost:8080/"
        },
        "id": "FY3PVtNG9qyh",
        "outputId": "eafd913e-f838-4c9d-845f-6d01c007a081"
      },
      "execution_count": 48,
      "outputs": [
        {
          "output_type": "stream",
          "name": "stdout",
          "text": [
            "3\n",
            "1\n",
            "567\n"
          ]
        }
      ]
    },
    {
      "cell_type": "code",
      "source": [
        "#SET: It is a collection of unique elements irrespective of any number of duplicates\n",
        "\n",
        "set1={1,1,1,1,1,1,1,1,2,2,2,2,2,2,2,3,3,3,3,3,4,4,4,4,5,5,5,5,5,5,5,'hi','hi'}\n",
        "print(set1) #check the output. It just displays the unique values\n",
        "set1.add(6)\n",
        "set1.add(6)\n",
        "set1.add(\"there\")\n",
        "set1"
      ],
      "metadata": {
        "colab": {
          "base_uri": "https://localhost:8080/"
        },
        "id": "RVnpzD_j-1yO",
        "outputId": "5dd4c2e7-26ae-4ef7-9fc8-2371f6acbdd9"
      },
      "execution_count": 52,
      "outputs": [
        {
          "output_type": "stream",
          "name": "stdout",
          "text": [
            "{1, 2, 3, 4, 5, 'hi'}\n"
          ]
        },
        {
          "output_type": "execute_result",
          "data": {
            "text/plain": [
              "{1, 2, 3, 4, 5, 6, 'hi', 'there'}"
            ]
          },
          "metadata": {},
          "execution_count": 52
        }
      ]
    },
    {
      "cell_type": "code",
      "source": [
        "#IF condition\n",
        "\n",
        "if 1<10:\n",
        "  print('1 is less than 10')\n",
        ""
      ],
      "metadata": {
        "colab": {
          "base_uri": "https://localhost:8080/"
        },
        "id": "YogHVVuRADsS",
        "outputId": "05496464-2cad-4aa4-aea6-d3fc91cfb97d"
      },
      "execution_count": 61,
      "outputs": [
        {
          "output_type": "stream",
          "name": "stdout",
          "text": [
            "0\n"
          ]
        }
      ]
    },
    {
      "cell_type": "code",
      "source": [
        "#IF/ELIF/ELSE else\n",
        "if 1<10:\n",
        "  print('1 is less than 10')\n",
        "elif 10==10:\n",
        "  print('10 equals 10!')\n",
        "else:\n",
        "  print(\"Invalid\")\n"
      ],
      "metadata": {
        "colab": {
          "base_uri": "https://localhost:8080/"
        },
        "id": "OciBghfbAky-",
        "outputId": "5825acfb-53c1-4c01-a0a1-877700ab5440"
      },
      "execution_count": 62,
      "outputs": [
        {
          "output_type": "stream",
          "name": "stdout",
          "text": [
            "1 is less than 10\n"
          ]
        }
      ]
    },
    {
      "cell_type": "code",
      "source": [
        "#WHILE LOOP\n",
        "a=0\n",
        "while a<5:\n",
        "  print(f\"python {a+1} loop\")\n",
        "  a+=1"
      ],
      "metadata": {
        "colab": {
          "base_uri": "https://localhost:8080/"
        },
        "id": "Jc0KFX2qBHJU",
        "outputId": "d2723495-6202-46bc-c24f-ffc9e6180442"
      },
      "execution_count": 9,
      "outputs": [
        {
          "output_type": "stream",
          "name": "stdout",
          "text": [
            "python 1 loop\n",
            "python 2 loop\n",
            "python 3 loop\n",
            "python 4 loop\n",
            "python 5 loop\n"
          ]
        }
      ]
    },
    {
      "cell_type": "code",
      "source": [
        "#FOR LOOP\n",
        "a=[1,2,3,4,5]\n",
        "for x in a:\n",
        "  print(x)"
      ],
      "metadata": {
        "colab": {
          "base_uri": "https://localhost:8080/"
        },
        "id": "CkxDz9DaBIpS",
        "outputId": "0349f81e-3e3d-4b54-c8a0-a7be2592da4d"
      },
      "execution_count": 63,
      "outputs": [
        {
          "output_type": "stream",
          "name": "stdout",
          "text": [
            "1\n",
            "2\n",
            "3\n",
            "4\n",
            "5\n"
          ]
        }
      ]
    },
    {
      "cell_type": "code",
      "source": [
        "#for with RANGE"
      ],
      "metadata": {
        "id": "XC8uxbxsCAmv"
      },
      "execution_count": 10,
      "outputs": []
    },
    {
      "cell_type": "code",
      "source": [
        "for i in range(0,5):\n",
        "  print(f\"python {i+1} loop\")\n"
      ],
      "metadata": {
        "colab": {
          "base_uri": "https://localhost:8080/"
        },
        "id": "xM9OKiJrCAkw",
        "outputId": "b9f8996f-0289-46b1-9c2a-cc17b1670cd0"
      },
      "execution_count": 13,
      "outputs": [
        {
          "output_type": "stream",
          "name": "stdout",
          "text": [
            "python 1 loop\n",
            "python 2 loop\n",
            "python 3 loop\n",
            "python 4 loop\n",
            "python 5 loop\n"
          ]
        }
      ]
    },
    {
      "cell_type": "code",
      "source": [
        "print(tuple(range(15)))\n",
        "print(list(range(15)))"
      ],
      "metadata": {
        "colab": {
          "base_uri": "https://localhost:8080/"
        },
        "id": "dAQzwcXcCRy5",
        "outputId": "a6af51d1-319d-49da-ac6d-6fb7e422a051"
      },
      "execution_count": 19,
      "outputs": [
        {
          "output_type": "stream",
          "name": "stdout",
          "text": [
            "(0, 1, 2, 3, 4, 5, 6, 7, 8, 9, 10, 11, 12, 13, 14)\n",
            "[0, 1, 2, 3, 4, 5, 6, 7, 8, 9, 10, 11, 12, 13, 14]\n"
          ]
        }
      ]
    },
    {
      "cell_type": "code",
      "source": [
        "p=[1,2,3,4,5]\n",
        "q=[]\n",
        "for i in p:\n",
        "  q.append(i**i)\n",
        "print(q)"
      ],
      "metadata": {
        "colab": {
          "base_uri": "https://localhost:8080/"
        },
        "id": "8xlzfnA5Cqov",
        "outputId": "ec9bb743-877f-4c1f-fcff-c0925d8818c0"
      },
      "execution_count": 20,
      "outputs": [
        {
          "output_type": "stream",
          "name": "stdout",
          "text": [
            "[1, 4, 27, 256, 3125]\n"
          ]
        }
      ]
    },
    {
      "cell_type": "code",
      "source": [
        "#Functions\n",
        "def adding(a,b,c=100): #c is a default value we can consider it as a global mapping\n",
        "  \"\"\" THIS A DOC STRING\n",
        "  THIS FUNCTION HELPS WITH ADDITION \"\"\"\n",
        "  return a+b+c\n",
        "adding(5,17)\n"
      ],
      "metadata": {
        "colab": {
          "base_uri": "https://localhost:8080/"
        },
        "id": "5FeYS4RoDIne",
        "outputId": "763e00e0-ff6c-44ce-c72b-dbc1545bcdcf"
      },
      "execution_count": 25,
      "outputs": [
        {
          "output_type": "execute_result",
          "data": {
            "text/plain": [
              "122"
            ]
          },
          "metadata": {},
          "execution_count": 25
        }
      ]
    }
  ]
}