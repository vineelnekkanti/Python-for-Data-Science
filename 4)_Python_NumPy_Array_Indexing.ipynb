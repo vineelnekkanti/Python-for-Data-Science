{
  "nbformat": 4,
  "nbformat_minor": 0,
  "metadata": {
    "colab": {
      "provenance": [],
      "authorship_tag": "ABX9TyPnFnBa1ymJkDuRWeMY5Qu+",
      "include_colab_link": true
    },
    "kernelspec": {
      "name": "python3",
      "display_name": "Python 3"
    },
    "language_info": {
      "name": "python"
    }
  },
  "cells": [
    {
      "cell_type": "markdown",
      "metadata": {
        "id": "view-in-github",
        "colab_type": "text"
      },
      "source": [
        "<a href=\"https://colab.research.google.com/github/vineelnekkanti/Python-for-Data-Science/blob/my-work/4)_Python_NumPy_Array_Indexing.ipynb\" target=\"_parent\"><img src=\"https://colab.research.google.com/assets/colab-badge.svg\" alt=\"Open In Colab\"/></a>"
      ]
    },
    {
      "cell_type": "code",
      "execution_count": 1,
      "metadata": {
        "id": "sSvDU_PxTgYD"
      },
      "outputs": [],
      "source": [
        "import numpy as np"
      ]
    },
    {
      "cell_type": "code",
      "source": [
        "arr = np.arange(1,11)\n",
        "arr"
      ],
      "metadata": {
        "colab": {
          "base_uri": "https://localhost:8080/"
        },
        "id": "xUZlAGl-TwpT",
        "outputId": "dc39b2e7-364a-48c7-d361-b61f371ab251"
      },
      "execution_count": 4,
      "outputs": [
        {
          "output_type": "execute_result",
          "data": {
            "text/plain": [
              "array([ 1,  2,  3,  4,  5,  6,  7,  8,  9, 10])"
            ]
          },
          "metadata": {},
          "execution_count": 4
        }
      ]
    },
    {
      "cell_type": "code",
      "source": [
        "print(arr[5]) #value at index 5\n",
        "print(arr[1:5])\n",
        "print(arr[:7])\n",
        "print(arr[7:])"
      ],
      "metadata": {
        "colab": {
          "base_uri": "https://localhost:8080/"
        },
        "id": "aj0VI0rUT2g9",
        "outputId": "e250ddcd-b73c-42bb-ddfe-898bfd566ccd"
      },
      "execution_count": 12,
      "outputs": [
        {
          "output_type": "stream",
          "name": "stdout",
          "text": [
            "6\n",
            "[2 3 4 5]\n",
            "[1 2 3 4 5 6 7]\n",
            "[ 8  9 10]\n"
          ]
        }
      ]
    },
    {
      "cell_type": "markdown",
      "source": [
        "IF you slice an array and assign a value to that sliced array then it will impact the original array. NumPy tries to avoid complex memory management. if you still want your original array to be unaffcected use **array_name.copy()** to have a back up of the original array"
      ],
      "metadata": {
        "id": "2ETGwUn7Vivv"
      }
    },
    {
      "cell_type": "code",
      "source": [
        "arr"
      ],
      "metadata": {
        "colab": {
          "base_uri": "https://localhost:8080/"
        },
        "id": "hH5nG4eDWGdj",
        "outputId": "838989bc-21c1-47ab-f4cd-6e84646d4a5c"
      },
      "execution_count": 13,
      "outputs": [
        {
          "output_type": "execute_result",
          "data": {
            "text/plain": [
              "array([ 1,  2,  3,  4,  5,  6,  7,  8,  9, 10])"
            ]
          },
          "metadata": {},
          "execution_count": 13
        }
      ]
    },
    {
      "cell_type": "code",
      "source": [
        "slice_of_arr = arr[:5]\n",
        "slice_of_arr"
      ],
      "metadata": {
        "colab": {
          "base_uri": "https://localhost:8080/"
        },
        "id": "j5xFavveWazd",
        "outputId": "ce525ba1-7a78-470b-a7e8-b99f3b1545b4"
      },
      "execution_count": 15,
      "outputs": [
        {
          "output_type": "execute_result",
          "data": {
            "text/plain": [
              "array([1, 2, 3, 4, 5])"
            ]
          },
          "metadata": {},
          "execution_count": 15
        }
      ]
    },
    {
      "cell_type": "code",
      "source": [
        "#Now I am assigning a value to the new slice\n",
        "slice_of_arr[:]=100\n",
        "print(slice_of_arr)\n",
        "print(arr)\n",
        "#If you see this output, I have assinged new value to slice but NumPy\n",
        " #automatically picked those values back to the original np array"
      ],
      "metadata": {
        "colab": {
          "base_uri": "https://localhost:8080/"
        },
        "id": "sCESJ86NWhJq",
        "outputId": "0cce8fde-1036-46bf-ff58-9bbb648d3d1b"
      },
      "execution_count": 16,
      "outputs": [
        {
          "output_type": "stream",
          "name": "stdout",
          "text": [
            "[100 100 100 100 100]\n",
            "[100 100 100 100 100   6   7   8   9  10]\n"
          ]
        }
      ]
    },
    {
      "cell_type": "code",
      "source": [
        "copy_of_arr = arr.copy()\n",
        "copy_of_arr\n",
        "copy_of_arr[:5]=99\n",
        "print(arr)\n",
        "print(copy_of_arr) #using copy unaffected the arrays"
      ],
      "metadata": {
        "colab": {
          "base_uri": "https://localhost:8080/"
        },
        "id": "D02J9zWSW3YZ",
        "outputId": "3f14c40d-ef1a-4f50-e2cd-a3bd46f650de"
      },
      "execution_count": 19,
      "outputs": [
        {
          "output_type": "stream",
          "name": "stdout",
          "text": [
            "[100 100 100 100 100   6   7   8   9  10]\n",
            "[99 99 99 99 99  6  7  8  9 10]\n"
          ]
        }
      ]
    },
    {
      "cell_type": "markdown",
      "source": [
        "Indexing a 2-D Array/Matrix"
      ],
      "metadata": {
        "id": "ZldopC9UXcZ7"
      }
    },
    {
      "cell_type": "code",
      "source": [
        "arr_2d=np.random.randint(1,100,size=(3,5))\n",
        "arr_2d"
      ],
      "metadata": {
        "colab": {
          "base_uri": "https://localhost:8080/"
        },
        "id": "zKqZqbM2XgXi",
        "outputId": "162b78ab-a2ff-4264-c0cf-ed44b960e05f"
      },
      "execution_count": 25,
      "outputs": [
        {
          "output_type": "execute_result",
          "data": {
            "text/plain": [
              "array([[15, 99, 14, 55, 73],\n",
              "       [86, 67, 43, 19, 33],\n",
              "       [77, 28, 12,  6, 77]])"
            ]
          },
          "metadata": {},
          "execution_count": 25
        }
      ]
    },
    {
      "cell_type": "markdown",
      "source": [
        "2 formats to grab elements from matrix: double bracket and single bracket format"
      ],
      "metadata": {
        "id": "WdEDjEPAYPse"
      }
    },
    {
      "cell_type": "code",
      "source": [
        "\n",
        "arr_2d[0][0]  #[][] row and the column\n",
        "arr_2d[2][1] #Double brakcet format\n",
        "#OR\n",
        "arr_2d[2,1] #single bracket\n"
      ],
      "metadata": {
        "colab": {
          "base_uri": "https://localhost:8080/"
        },
        "id": "rgkkea4kYThB",
        "outputId": "0597403a-0980-459e-8365-a4722585c654"
      },
      "execution_count": 28,
      "outputs": [
        {
          "output_type": "execute_result",
          "data": {
            "text/plain": [
              "28"
            ]
          },
          "metadata": {},
          "execution_count": 28
        }
      ]
    },
    {
      "cell_type": "code",
      "source": [
        "#complex indexing\n",
        "arr_2d[:2,2:] #first :2 display the rows from index 2 and next 2: works column wise\n",
        "#arr_2d[:2]"
      ],
      "metadata": {
        "colab": {
          "base_uri": "https://localhost:8080/"
        },
        "id": "Ue_k11IOZStY",
        "outputId": "69d9f5df-51e1-487f-e087-46c2e401bde4"
      },
      "execution_count": 36,
      "outputs": [
        {
          "output_type": "execute_result",
          "data": {
            "text/plain": [
              "array([[14, 55, 73],\n",
              "       [43, 19, 33]])"
            ]
          },
          "metadata": {},
          "execution_count": 36
        }
      ]
    },
    {
      "cell_type": "code",
      "source": [
        "arr=np.arange(1,11)\n",
        "arr"
      ],
      "metadata": {
        "colab": {
          "base_uri": "https://localhost:8080/"
        },
        "id": "g1VlFpYqaknn",
        "outputId": "1f17cb84-b107-4f1e-dea3-90be63c7c387"
      },
      "execution_count": 39,
      "outputs": [
        {
          "output_type": "execute_result",
          "data": {
            "text/plain": [
              "array([ 1,  2,  3,  4,  5,  6,  7,  8,  9, 10])"
            ]
          },
          "metadata": {},
          "execution_count": 39
        }
      ]
    },
    {
      "cell_type": "code",
      "source": [
        "bool_arr = arr > 5 #gives bool values\n",
        "bool_arr"
      ],
      "metadata": {
        "colab": {
          "base_uri": "https://localhost:8080/"
        },
        "id": "iYjCqJWEeMMj",
        "outputId": "00a74bc9-77c0-447a-d523-6ac3d85996ce"
      },
      "execution_count": 41,
      "outputs": [
        {
          "output_type": "execute_result",
          "data": {
            "text/plain": [
              "array([False, False, False, False, False,  True,  True,  True,  True,\n",
              "        True])"
            ]
          },
          "metadata": {},
          "execution_count": 41
        }
      ]
    },
    {
      "cell_type": "code",
      "source": [
        "arr[bool_arr] #returns the values that has TRUE as value"
      ],
      "metadata": {
        "colab": {
          "base_uri": "https://localhost:8080/"
        },
        "id": "mjWyQPDKeb3T",
        "outputId": "ca967703-9e65-4e0f-be9b-780aae930cef"
      },
      "execution_count": 42,
      "outputs": [
        {
          "output_type": "execute_result",
          "data": {
            "text/plain": [
              "array([ 6,  7,  8,  9, 10])"
            ]
          },
          "metadata": {},
          "execution_count": 42
        }
      ]
    },
    {
      "cell_type": "code",
      "source": [
        "#simply put\n",
        "print(arr[arr >5])\n",
        "print(arr[arr <3])"
      ],
      "metadata": {
        "colab": {
          "base_uri": "https://localhost:8080/"
        },
        "id": "l-RkBaP_enhY",
        "outputId": "00c3e418-4a1d-4521-cf42-e9747847c35c"
      },
      "execution_count": 44,
      "outputs": [
        {
          "output_type": "stream",
          "name": "stdout",
          "text": [
            "[ 6  7  8  9 10]\n",
            "[1 2]\n"
          ]
        }
      ]
    },
    {
      "cell_type": "code",
      "source": [
        "#example\n",
        "arr_2d = np.arange(50).reshape(5,10)\n",
        "arr_2d"
      ],
      "metadata": {
        "colab": {
          "base_uri": "https://localhost:8080/"
        },
        "id": "kVy7tJWxe1iA",
        "outputId": "a80aac15-be1b-44e4-def4-cfb377c1d23a"
      },
      "execution_count": 49,
      "outputs": [
        {
          "output_type": "execute_result",
          "data": {
            "text/plain": [
              "array([[ 0,  1,  2,  3,  4,  5,  6,  7,  8,  9],\n",
              "       [10, 11, 12, 13, 14, 15, 16, 17, 18, 19],\n",
              "       [20, 21, 22, 23, 24, 25, 26, 27, 28, 29],\n",
              "       [30, 31, 32, 33, 34, 35, 36, 37, 38, 39],\n",
              "       [40, 41, 42, 43, 44, 45, 46, 47, 48, 49]])"
            ]
          },
          "metadata": {},
          "execution_count": 49
        }
      ]
    },
    {
      "cell_type": "code",
      "source": [
        "arr_2d[1:3,2:4]"
      ],
      "metadata": {
        "colab": {
          "base_uri": "https://localhost:8080/"
        },
        "id": "l4AU1lMge-tD",
        "outputId": "317114ce-3e46-4eed-a654-65018e10c0c3"
      },
      "execution_count": 47,
      "outputs": [
        {
          "output_type": "execute_result",
          "data": {
            "text/plain": [
              "array([[12, 13],\n",
              "       [22, 23]])"
            ]
          },
          "metadata": {},
          "execution_count": 47
        }
      ]
    }
  ]
}