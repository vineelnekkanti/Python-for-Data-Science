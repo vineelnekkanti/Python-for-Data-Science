{
  "nbformat": 4,
  "nbformat_minor": 0,
  "metadata": {
    "colab": {
      "provenance": [],
      "authorship_tag": "ABX9TyNsYzYe3NRCgBmB6RhqiijC",
      "include_colab_link": true
    },
    "kernelspec": {
      "name": "python3",
      "display_name": "Python 3"
    },
    "language_info": {
      "name": "python"
    }
  },
  "cells": [
    {
      "cell_type": "markdown",
      "metadata": {
        "id": "view-in-github",
        "colab_type": "text"
      },
      "source": [
        "<a href=\"https://colab.research.google.com/github/vineelnekkanti/Python-for-Data-Science/blob/my-work/Python_NumPy_Arrays.ipynb\" target=\"_parent\"><img src=\"https://colab.research.google.com/assets/colab-badge.svg\" alt=\"Open In Colab\"/></a>"
      ]
    },
    {
      "cell_type": "markdown",
      "source": [
        "1) Numeric python/NumPy is a linr algebra library of python, the reason it is\n",
        "most important for python and Data Science is that almost all of the libraries in the PyData ecosystmer rely on NumPy as one of their main building blocks\n",
        "\n",
        "2) Numpy is also incredibly fast as it has bindings to C libraries\n",
        "\n",
        "3) NumPy aims to provide an array object that is up to 50x faster than traditional Python lists.\n",
        "\n",
        "4) Arrays are very frequently used in data science, where speed and resources are very important.\n",
        "\n",
        "For more refer: https://www.w3schools.com/python/numpy/default.asp"
      ],
      "metadata": {
        "id": "bQWhtXFY5yOz"
      }
    },
    {
      "cell_type": "code",
      "source": [
        "import numpy as np"
      ],
      "metadata": {
        "id": "QegGxbNZ6f9H"
      },
      "execution_count": 4,
      "outputs": []
    },
    {
      "cell_type": "markdown",
      "source": [
        "1) NumPy arrays are the main way we will use NumPy throughout the course\n",
        "2) These arrays are of two types: Vectors and Matrices\n",
        "3) Vectors are 1-D arrays and Matrices are 2-D\n",
        "\n",
        "Note that Matrix can stil have only one row or one column"
      ],
      "metadata": {
        "id": "chtDQFHT6o9w"
      }
    },
    {
      "cell_type": "code",
      "source": [
        "#NumPy Arrays\n",
        "my_list = [1,2,3]\n",
        "arr = np.array(my_list) #casts the normal lists into numpy arrays\n",
        "arr"
      ],
      "metadata": {
        "colab": {
          "base_uri": "https://localhost:8080/"
        },
        "id": "YIsOxsj97HAA",
        "outputId": "065ff2dc-a708-481e-a7af-bf7b8530d2fd"
      },
      "execution_count": 5,
      "outputs": [
        {
          "output_type": "execute_result",
          "data": {
            "text/plain": [
              "array([1, 2, 3])"
            ]
          },
          "metadata": {},
          "execution_count": 5
        }
      ]
    },
    {
      "cell_type": "code",
      "source": [
        "my_bin=[[1,2,3],[4,5,6],[7,8,9]]\n",
        "np.array(my_bin)"
      ],
      "metadata": {
        "colab": {
          "base_uri": "https://localhost:8080/"
        },
        "id": "tcnXO1z-8SZe",
        "outputId": "85eedb55-3c17-444b-86c7-2f221b12f8be"
      },
      "execution_count": 6,
      "outputs": [
        {
          "output_type": "execute_result",
          "data": {
            "text/plain": [
              "array([[1, 2, 3],\n",
              "       [4, 5, 6],\n",
              "       [7, 8, 9]])"
            ]
          },
          "metadata": {},
          "execution_count": 6
        }
      ]
    },
    {
      "cell_type": "code",
      "source": [
        "np.arange(0,11,2)  # This is like range function in python: range(0,10)"
      ],
      "metadata": {
        "colab": {
          "base_uri": "https://localhost:8080/"
        },
        "id": "ill2ecx28hpb",
        "outputId": "c7d9bea6-47bb-4bc1-8d48-4ec695f5a844"
      },
      "execution_count": 11,
      "outputs": [
        {
          "output_type": "execute_result",
          "data": {
            "text/plain": [
              "array([ 0,  2,  4,  6,  8, 10])"
            ]
          },
          "metadata": {},
          "execution_count": 11
        }
      ]
    },
    {
      "cell_type": "code",
      "source": [
        "np.zeros(3)"
      ],
      "metadata": {
        "colab": {
          "base_uri": "https://localhost:8080/"
        },
        "id": "3G8uvYHr856e",
        "outputId": "8fae82de-dec6-4417-caf8-24586f6b9534"
      },
      "execution_count": 12,
      "outputs": [
        {
          "output_type": "execute_result",
          "data": {
            "text/plain": [
              "array([0., 0., 0.])"
            ]
          },
          "metadata": {},
          "execution_count": 12
        }
      ]
    },
    {
      "cell_type": "code",
      "source": [
        "np.zeros((5,5))"
      ],
      "metadata": {
        "colab": {
          "base_uri": "https://localhost:8080/"
        },
        "id": "HAujBqM69HdF",
        "outputId": "542d4067-c497-4bc4-8603-ea4418e8c78b"
      },
      "execution_count": 13,
      "outputs": [
        {
          "output_type": "execute_result",
          "data": {
            "text/plain": [
              "array([[0., 0., 0., 0., 0.],\n",
              "       [0., 0., 0., 0., 0.],\n",
              "       [0., 0., 0., 0., 0.],\n",
              "       [0., 0., 0., 0., 0.],\n",
              "       [0., 0., 0., 0., 0.]])"
            ]
          },
          "metadata": {},
          "execution_count": 13
        }
      ]
    },
    {
      "cell_type": "code",
      "source": [
        "np.ones(3)\n",
        "np.ones((5,5))"
      ],
      "metadata": {
        "colab": {
          "base_uri": "https://localhost:8080/"
        },
        "id": "wOSaVE4r9KxV",
        "outputId": "5dad3a38-5ad4-4cc0-fd38-edbd9b374c85"
      },
      "execution_count": 20,
      "outputs": [
        {
          "output_type": "execute_result",
          "data": {
            "text/plain": [
              "array([[1., 1., 1., 1., 1.],\n",
              "       [1., 1., 1., 1., 1.],\n",
              "       [1., 1., 1., 1., 1.],\n",
              "       [1., 1., 1., 1., 1.],\n",
              "       [1., 1., 1., 1., 1.]])"
            ]
          },
          "metadata": {},
          "execution_count": 20
        }
      ]
    },
    {
      "cell_type": "code",
      "source": [
        "#linspace\n",
        "np.linspace(0,5,10) #10 evenly spaces points from 0 to 5"
      ],
      "metadata": {
        "colab": {
          "base_uri": "https://localhost:8080/"
        },
        "id": "cTzcqGid9yqa",
        "outputId": "44197d5a-53d5-4644-d7bb-baf36ddd0b90"
      },
      "execution_count": 21,
      "outputs": [
        {
          "output_type": "execute_result",
          "data": {
            "text/plain": [
              "array([0.        , 0.55555556, 1.11111111, 1.66666667, 2.22222222,\n",
              "       2.77777778, 3.33333333, 3.88888889, 4.44444444, 5.        ])"
            ]
          },
          "metadata": {},
          "execution_count": 21
        }
      ]
    },
    {
      "cell_type": "code",
      "source": [
        "np.linspace(0,5,20) #20 evenly spaces points from 0 to 5"
      ],
      "metadata": {
        "colab": {
          "base_uri": "https://localhost:8080/"
        },
        "id": "KLBqyaLT98i2",
        "outputId": "bdd50a01-0d2d-4ea1-b4a4-66aaffba7071"
      },
      "execution_count": 23,
      "outputs": [
        {
          "output_type": "execute_result",
          "data": {
            "text/plain": [
              "array([0.        , 0.26315789, 0.52631579, 0.78947368, 1.05263158,\n",
              "       1.31578947, 1.57894737, 1.84210526, 2.10526316, 2.36842105,\n",
              "       2.63157895, 2.89473684, 3.15789474, 3.42105263, 3.68421053,\n",
              "       3.94736842, 4.21052632, 4.47368421, 4.73684211, 5.        ])"
            ]
          },
          "metadata": {},
          "execution_count": 23
        }
      ]
    },
    {
      "cell_type": "code",
      "source": [
        "#Create an Identity Matrix using NumPy\n",
        "np.eye(5)"
      ],
      "metadata": {
        "colab": {
          "base_uri": "https://localhost:8080/"
        },
        "id": "jhDNf17_-Hgx",
        "outputId": "a3d26f1f-6bba-439e-8126-57d0484ded73"
      },
      "execution_count": 31,
      "outputs": [
        {
          "output_type": "execute_result",
          "data": {
            "text/plain": [
              "array([[1., 0., 0., 0., 0.],\n",
              "       [0., 1., 0., 0., 0.],\n",
              "       [0., 0., 1., 0., 0.],\n",
              "       [0., 0., 0., 1., 0.],\n",
              "       [0., 0., 0., 0., 1.]])"
            ]
          },
          "metadata": {},
          "execution_count": 31
        }
      ]
    },
    {
      "cell_type": "markdown",
      "source": [
        "creating arrays with \"Random\""
      ],
      "metadata": {
        "id": "0Z-YrnnGBHXW"
      }
    },
    {
      "cell_type": "code",
      "source": [
        "np.random.rand(5) #create an array with the given shape we pass its gonna populate random samples from uniform distribution over 0 to 1\n",
        "# This is 1-Dimensional"
      ],
      "metadata": {
        "colab": {
          "base_uri": "https://localhost:8080/"
        },
        "id": "99UIlLID-WnW",
        "outputId": "62439225-36be-4df1-b902-32047621d6e2"
      },
      "execution_count": 32,
      "outputs": [
        {
          "output_type": "execute_result",
          "data": {
            "text/plain": [
              "array([0.93236407, 0.28160284, 0.0293144 , 0.93999975, 0.97041005])"
            ]
          },
          "metadata": {},
          "execution_count": 32
        }
      ]
    },
    {
      "cell_type": "code",
      "source": [
        "np.random.rand(5,5) #This creates a 2-D matrix with radom numbers"
      ],
      "metadata": {
        "colab": {
          "base_uri": "https://localhost:8080/"
        },
        "id": "-3BGiACj-ute",
        "outputId": "1511740a-466f-45a2-8e57-b83d96e06d26"
      },
      "execution_count": 33,
      "outputs": [
        {
          "output_type": "execute_result",
          "data": {
            "text/plain": [
              "array([[0.54337403, 0.13009881, 0.64736289, 0.50655391, 0.94847115],\n",
              "       [0.73884298, 0.62120787, 0.57594854, 0.5579748 , 0.91594756],\n",
              "       [0.91103073, 0.13704172, 0.27042682, 0.15543665, 0.09041465],\n",
              "       [0.82179389, 0.75564167, 0.15578036, 0.21546756, 0.15395058],\n",
              "       [0.25427534, 0.66756723, 0.68381215, 0.57356734, 0.98736157]])"
            ]
          },
          "metadata": {},
          "execution_count": 33
        }
      ]
    },
    {
      "cell_type": "markdown",
      "source": [
        "If we want to return a sample or many smaples from the standard normal distribution or a Gaussian distribution, instaed of using rand, we can used \"randn\"\n",
        "\n"
      ],
      "metadata": {
        "id": "5AJdDG8OAQH7"
      }
    },
    {
      "cell_type": "code",
      "source": [
        "np.random.randn(2) #This gives numbers from standard normal distribution"
      ],
      "metadata": {
        "colab": {
          "base_uri": "https://localhost:8080/"
        },
        "id": "YFtIGfmGAlUo",
        "outputId": "4052e41e-a790-456e-8efb-422275b22f2b"
      },
      "execution_count": 35,
      "outputs": [
        {
          "output_type": "execute_result",
          "data": {
            "text/plain": [
              "array([ 0.55677268, -2.09260796])"
            ]
          },
          "metadata": {},
          "execution_count": 35
        }
      ]
    },
    {
      "cell_type": "code",
      "source": [
        "np.random.randn(4,4)"
      ],
      "metadata": {
        "colab": {
          "base_uri": "https://localhost:8080/"
        },
        "id": "p2gcm6XCAsEA",
        "outputId": "4c7b4f51-1220-4713-f169-d42359e086e2"
      },
      "execution_count": 36,
      "outputs": [
        {
          "output_type": "execute_result",
          "data": {
            "text/plain": [
              "array([[-0.1265256 ,  0.01307865,  0.31334301,  0.23754701],\n",
              "       [ 0.02531308, -1.10260786, -1.29402818, -0.92800573],\n",
              "       [ 0.24129794,  0.26862604, -0.05571159,  0.01813739],\n",
              "       [ 1.49594615, -0.47141882,  1.0868795 , -0.9226181 ]])"
            ]
          },
          "metadata": {},
          "execution_count": 36
        }
      ]
    },
    {
      "cell_type": "markdown",
      "source": [
        "Random Integer"
      ],
      "metadata": {
        "id": "LmcF8LSaDJaJ"
      }
    },
    {
      "cell_type": "code",
      "source": [
        "np.random.randint(1,100) # lowest inclusive and highest exlusive.\n",
        "#It gives a random integer from: 1<=random integer<100"
      ],
      "metadata": {
        "colab": {
          "base_uri": "https://localhost:8080/"
        },
        "id": "PJF60HCYBL6F",
        "outputId": "e8a7df4c-eace-4014-fb3b-421d2ed22ff2"
      },
      "execution_count": 41,
      "outputs": [
        {
          "output_type": "execute_result",
          "data": {
            "text/plain": [
              "34"
            ]
          },
          "metadata": {},
          "execution_count": 41
        }
      ]
    },
    {
      "cell_type": "code",
      "source": [
        "np.random.randint(1,100,10) #to display particularly 10 random integers from 1 till 99. It gives as an np array"
      ],
      "metadata": {
        "colab": {
          "base_uri": "https://localhost:8080/"
        },
        "id": "dCKqjEIpBj9f",
        "outputId": "6fcde175-d0a8-465e-94ff-59c9e4386cde"
      },
      "execution_count": 42,
      "outputs": [
        {
          "output_type": "execute_result",
          "data": {
            "text/plain": [
              "array([57, 11,  6,  8, 87, 70, 85, 52, 20, 29])"
            ]
          },
          "metadata": {},
          "execution_count": 42
        }
      ]
    },
    {
      "cell_type": "code",
      "source": [
        "arr = np.arange(20)\n",
        "arr"
      ],
      "metadata": {
        "colab": {
          "base_uri": "https://localhost:8080/"
        },
        "id": "xaUhlFFxB1Wo",
        "outputId": "6c049b43-d86e-4b95-da55-d691dc9db183"
      },
      "execution_count": 65,
      "outputs": [
        {
          "output_type": "execute_result",
          "data": {
            "text/plain": [
              "array([ 0,  1,  2,  3,  4,  5,  6,  7,  8,  9, 10, 11, 12, 13, 14, 15, 16,\n",
              "       17, 18, 19])"
            ]
          },
          "metadata": {},
          "execution_count": 65
        }
      ]
    },
    {
      "cell_type": "code",
      "source": [
        "rand_arr = np.random.randint(0,50,10)\n",
        "rand_arr"
      ],
      "metadata": {
        "colab": {
          "base_uri": "https://localhost:8080/"
        },
        "id": "ttJNcNl5B68Q",
        "outputId": "3450a50d-a811-4f4a-f3cb-3059ac920a95"
      },
      "execution_count": 46,
      "outputs": [
        {
          "output_type": "execute_result",
          "data": {
            "text/plain": [
              "array([30, 26, 45, 37,  3, 47, 15,  0, 27,  5])"
            ]
          },
          "metadata": {},
          "execution_count": 46
        }
      ]
    },
    {
      "cell_type": "markdown",
      "source": [
        "you can use \"reshape\" function to reshape the dimensions of arrays"
      ],
      "metadata": {
        "id": "aP-_z_RaCP10"
      }
    },
    {
      "cell_type": "code",
      "source": [
        "arr.reshape(4,5) #make sure if you multiply the numbers you should get the original number of elements in the old array"
      ],
      "metadata": {
        "colab": {
          "base_uri": "https://localhost:8080/"
        },
        "id": "2pO00jNLCYu2",
        "outputId": "0a316e53-7d01-43be-9c06-851fb70d27b6"
      },
      "execution_count": 56,
      "outputs": [
        {
          "output_type": "execute_result",
          "data": {
            "text/plain": [
              "array([[ 0,  1,  2,  3,  4],\n",
              "       [ 5,  6,  7,  8,  9],\n",
              "       [10, 11, 12, 13, 14],\n",
              "       [15, 16, 17, 18, 19]])"
            ]
          },
          "metadata": {},
          "execution_count": 56
        }
      ]
    },
    {
      "cell_type": "code",
      "source": [
        "rand_arr.reshape(5,2)"
      ],
      "metadata": {
        "colab": {
          "base_uri": "https://localhost:8080/"
        },
        "id": "xmbz225LC_If",
        "outputId": "f29b4fc8-b0dd-498b-ca23-ad10d4ec3b6d"
      },
      "execution_count": 58,
      "outputs": [
        {
          "output_type": "execute_result",
          "data": {
            "text/plain": [
              "array([[30, 26],\n",
              "       [45, 37],\n",
              "       [ 3, 47],\n",
              "       [15,  0],\n",
              "       [27,  5]])"
            ]
          },
          "metadata": {},
          "execution_count": 58
        }
      ]
    },
    {
      "cell_type": "code",
      "source": [
        "print(rand_arr.max())\n",
        "print(rand_arr.min())\n"
      ],
      "metadata": {
        "colab": {
          "base_uri": "https://localhost:8080/"
        },
        "id": "T5QIuf-aLK3O",
        "outputId": "e59c4b79-5b4f-4ff9-be24-8fc3fa72855c"
      },
      "execution_count": 61,
      "outputs": [
        {
          "output_type": "stream",
          "name": "stdout",
          "text": [
            "47\n",
            "0\n"
          ]
        }
      ]
    },
    {
      "cell_type": "markdown",
      "source": [
        "**argmax** and **argmin** helps in specifying the location of max and min values"
      ],
      "metadata": {
        "id": "OIYYMWWrLYsV"
      }
    },
    {
      "cell_type": "code",
      "source": [
        "print(rand_arr.argmax())\n",
        "print(rand_arr.argmin())"
      ],
      "metadata": {
        "colab": {
          "base_uri": "https://localhost:8080/"
        },
        "id": "UCEcAzTALesx",
        "outputId": "c0139c4d-dfdd-41a4-e651-9cc98d5e8092"
      },
      "execution_count": 63,
      "outputs": [
        {
          "output_type": "stream",
          "name": "stdout",
          "text": [
            "5\n",
            "7\n"
          ]
        }
      ]
    },
    {
      "cell_type": "code",
      "source": [
        "arr.shape #shape helps in finding the shape of the vector"
      ],
      "metadata": {
        "colab": {
          "base_uri": "https://localhost:8080/"
        },
        "id": "2rUHL4vLL4o3",
        "outputId": "7136e0bd-6f46-43c4-e533-892cd7c7bf16"
      },
      "execution_count": 68,
      "outputs": [
        {
          "output_type": "execute_result",
          "data": {
            "text/plain": [
              "(20,)"
            ]
          },
          "metadata": {},
          "execution_count": 68
        }
      ]
    },
    {
      "cell_type": "code",
      "source": [
        "arr=arr.reshape(5,4) #lets reshape the array\n",
        "arr.shape"
      ],
      "metadata": {
        "colab": {
          "base_uri": "https://localhost:8080/"
        },
        "id": "40_9EhCbMBj1",
        "outputId": "38f2189a-d2b6-4491-e509-f3ed6552aed7"
      },
      "execution_count": 76,
      "outputs": [
        {
          "output_type": "execute_result",
          "data": {
            "text/plain": [
              "(5, 4)"
            ]
          },
          "metadata": {},
          "execution_count": 76
        }
      ]
    },
    {
      "cell_type": "code",
      "source": [
        "arr.dtype # This helps in identiyfing the data type of the array"
      ],
      "metadata": {
        "colab": {
          "base_uri": "https://localhost:8080/"
        },
        "id": "p2rI7MPHMNTL",
        "outputId": "1627f5ea-6c78-4ef4-d5f8-67443b865632"
      },
      "execution_count": 79,
      "outputs": [
        {
          "output_type": "execute_result",
          "data": {
            "text/plain": [
              "dtype('int64')"
            ]
          },
          "metadata": {},
          "execution_count": 79
        }
      ]
    },
    {
      "cell_type": "markdown",
      "source": [
        "We can avoid coding long words like np.random.randint instead we can use in below format"
      ],
      "metadata": {
        "id": "B7viJBzUNMbb"
      }
    },
    {
      "cell_type": "code",
      "source": [
        "from numpy.random import randint\n",
        "randint(2,10,5)"
      ],
      "metadata": {
        "colab": {
          "base_uri": "https://localhost:8080/"
        },
        "id": "znx2Cu0uNUpS",
        "outputId": "b627167a-bb5a-4f1f-f63e-d7d96714fe27"
      },
      "execution_count": 81,
      "outputs": [
        {
          "output_type": "execute_result",
          "data": {
            "text/plain": [
              "array([9, 2, 6, 2, 4])"
            ]
          },
          "metadata": {},
          "execution_count": 81
        }
      ]
    }
  ]
}